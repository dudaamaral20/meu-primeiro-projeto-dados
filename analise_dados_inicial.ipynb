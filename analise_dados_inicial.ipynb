{
  "nbformat": 4,
  "nbformat_minor": 0,
  "metadata": {
    "colab": {
      "provenance": []
    },
    "kernelspec": {
      "name": "python3",
      "display_name": "Python 3"
    },
    "language_info": {
      "name": "python"
    }
  },
  "cells": [
    {
      "cell_type": "code",
      "execution_count": null,
      "metadata": {
        "id": "q8DHq7T6NYcq"
      },
      "outputs": [],
      "source": [
        "import pandas as pd\n",
        "import matplotlib.pyplot as plt\n",
        "\n",
        "# Criando dados fictícios\n",
        "dados = {\n",
        "    'Produto': ['A', 'B', 'C', 'D'],\n",
        "    'Vendas': [120, 340, 220, 150]\n",
        "}\n",
        "\n",
        "df = pd.DataFrame(dados)\n",
        "\n",
        "# Mostrando os dados\n",
        "print(\"Tabela de Vendas:\")\n",
        "print(df)\n",
        "\n",
        "# Gráfico de barras\n",
        "plt.bar(df['Produto'], df['Vendas'], color='skyblue')\n",
        "plt.title('Vendas por Produto')\n",
        "plt.xlabel('Produto')\n",
        "plt.ylabel('Quantidade Vendida')\n",
        "plt.show()\n"
      ]
    }
  ]
}